{
 "cells": [
  {
   "cell_type": "markdown",
   "metadata": {},
   "source": [
    "## World Series Winners: An Exploration!\n",
    "_Ravi Dayabhai_"
   ]
  },
  {
   "cell_type": "markdown",
   "metadata": {},
   "source": [
    "<img style=\"float: left;\" src=\"http://a.espncdn.com/media/motion/2013/1024/dm_131024_mlb_olbermann_why_nobody_watches_world_series/dm_131024_mlb_olbermann_why_nobody_watches_world_series.jpg\" />\n",
    "<img style=\"float: left; height: 324px; margin: 0px 0px 0px 15px\" src=\"http://media.bizj.us/view/img/1721981/tom-glavine-12*750xx1800-2400-147-0.jpg\" />"
   ]
  },
  {
   "cell_type": "markdown",
   "metadata": {},
   "source": [
    "To begin, I ask a simple question: **What do various \"profiles\" of World Series teams throughout history look like?**"
   ]
  },
  {
   "cell_type": "code",
   "execution_count": 1,
   "metadata": {
    "collapsed": false
   },
   "outputs": [],
   "source": [
    "# Import all the modules used in the subsequent analysis\n",
    "\n",
    "import glob\n",
    "import pandas as pd\n",
    "from scipy import stats\n",
    "import numpy as np\n",
    "import matplotlib.pyplot as plt\n",
    "import seaborn as sns\n",
    "\n",
    "### 0. Import data into a dictionary of dataframes ###\n",
    "filename_list = glob.glob('*.csv')\n",
    "data_dict = {f[:-4]: pd.read_csv(f) for f in filename_list}"
   ]
  },
  {
   "cell_type": "markdown",
   "metadata": {},
   "source": [
    "To answer this question, we begin our data adventure by importing not only all of the modules needed for this project, but the data set itself! I chose to store all of the data as Pandas DataFrames, all of which were then stored as values in a dictionary. The dictionary (`data_dict`) keys were the original file names of the \\*.CSVs."
   ]
  },
  {
   "cell_type": "markdown",
   "metadata": {},
   "source": [
    "I began by adding a few more composite metrics such as WHIP and slugging percentage to beef up the existing data. It can be argued that these added metrics do a better job capturing a given teams defensive, offensive, or pitching prowess. Unfortunately, as will be seen later, some statistics (e.g., sacrifice flies) did not span the entire history of baseball and resulted in `NaN`s for these composite metrics for relatively earlier dated data (e.g., years before 2000)."
   ]
  },
  {
   "cell_type": "code",
   "execution_count": 2,
   "metadata": {
    "collapsed": false
   },
   "outputs": [],
   "source": [
    "### 1. Rankings of WS-winning Teams ###\n",
    "\n",
    "## 1.1 Adding compound team metrics ##\n",
    "\n",
    "# On-base Percentage, \"OBP\"\n",
    "data_dict[\"Teams\"][\"OBP\"] = (data_dict[\n",
    "    \"Teams\"][\"H\"] + data_dict[\n",
    "        \"Teams\"][\"BB\"] + data_dict[\n",
    "            \"Teams\"][\"HBP\"]) / (data_dict[\n",
    "                \"Teams\"][\"AB\"] + data_dict[\n",
    "                    \"Teams\"][\"SF\"] + data_dict[\n",
    "                        \"Teams\"][\"BB\"] + data_dict[\n",
    "                            \"Teams\"][\"HBP\"])\n",
    "\n",
    "# Slugging Percentage, \"SLG\"\n",
    "TB_weights = pd.DataFrame([1, 2, 3, 4], index=['S', '2B', '3B', 'HR'])\n",
    "data_dict[\"Teams\"][\"S\"] = data_dict[\"Teams\"][\n",
    "    \"H\"] - data_dict[\"Teams\"].ix[:, \"2B\": \"HR\"].sum(axis=1)\n",
    "\n",
    "new_col_list = ['yearID', 'lgID', 'teamID', 'franchID', 'divID', 'Rank', 'G', 'Ghome', 'W', 'L', 'DivWin', 'WCWin', 'LgWin', 'WSWin', 'R', 'AB', 'H', 'S', '2B', '3B', 'HR', 'BB', 'SO', 'SB', 'CS',\n",
    "                'HBP', 'SF', 'RA', 'ER', 'ERA', 'CG', 'SHO', 'SV', 'IPouts', 'HA', 'HRA', 'BBA', 'SOA', 'E', 'DP', 'FP', 'name', 'park', 'attendance', 'BPF', 'PPF', 'teamIDBR', 'teamIDlahman45', 'teamIDretro', 'OBP']\n",
    "\n",
    "data_dict[\"Teams\"] = data_dict[\"Teams\"][new_col_list]\n",
    "\n",
    "data_dict[\"Teams\"][\"TB\"] = data_dict[\"Teams\"].ix[:, \"S\":\"HR\"].dot(TB_weights)\n",
    "\n",
    "data_dict[\"Teams\"][\"SLG\"] = data_dict[\"Teams\"][\"TB\"] / data_dict[\n",
    "    \"Teams\"][\"AB\"]\n",
    "\n",
    "# On-base plus slugging, \"OPS\"\n",
    "data_dict[\"Teams\"][\"OPS\"] = data_dict[\n",
    "    \"Teams\"][\"OBP\"] + data_dict[\"Teams\"][\"SLG\"]\n",
    "\n",
    "# Team Batting Average, \"teamBA\"\n",
    "data_dict[\"Teams\"][\"teamBA\"] = data_dict[\n",
    "    \"Teams\"][\"H\"] / data_dict[\"Teams\"][\"AB\"]\n",
    "\n",
    "# Walks plus hits per inning pitched, \"WHIP\"\n",
    "\n",
    "data_dict[\"Teams\"][\"WHIP\"] = (data_dict[\"Teams\"][\n",
    "                              \"BBA\"] + data_dict[\"Teams\"][\"HA\"]) / (data_dict[\"Teams\"][\"IPouts\"] / 3)\n",
    "\n",
    "# Making WSWin column summarizable\n",
    "data_dict[\"Teams\"].replace({'WSWin': {'Y': 1, 'N': 0}}, inplace=True)"
   ]
  },
  {
   "cell_type": "markdown",
   "metadata": {},
   "source": []
  },
  {
   "cell_type": "code",
   "execution_count": 3,
   "metadata": {
    "collapsed": true
   },
   "outputs": [],
   "source": [
    "## Computing average age of teams per year ##\n",
    "\n",
    "# Create dataframe of all players on each team in each year; player might\n",
    "# show up on 2+ different teams in a given year\n",
    "tables_of_players = [\"Batting\", \"Pitching\", \"Fielding\"]\n",
    "tables_to_merge = []\n",
    "for table in tables_of_players:\n",
    "    df = data_dict[table]\n",
    "    tables_to_merge.append(df.groupby(\n",
    "        [\"yearID\", \"teamID\", \"playerID\"]).mean())\n",
    "\n",
    "all_players_byteam = reduce(lambda left, right: pd.merge(\n",
    "    left, right, left_index=True, right_index=True, how=\"outer\"), tables_to_merge)\n",
    "\n",
    "all_players_byteam.reset_index(inplace=True)\n",
    "all_players_byteam = all_players_byteam[[\"yearID\", \"teamID\", \"playerID\"]]\n",
    "player_info = data_dict[\"Master\"]\n",
    "age_df = all_players_byteam.merge(\n",
    "    player_info[[\"playerID\", \"birthYear\"]], on=\"playerID\")\n",
    "age_df[\"age\"] = age_df[\"yearID\"] - age_df[\"birthYear\"]\n",
    "\n",
    "# Players with missing 'birthYear's == 130\n",
    "# missing_age_info = age_df[age_df.isnull().birthYear]\n",
    "# print len(set(missing_age_info.playerID))\n",
    "\n",
    "# Add \"age\" column to \"Teams\" table\n",
    "grouped_Ages = age_df.groupby([\"yearID\", \"teamID\"]).mean()[[\"age\"]]\n",
    "grouped_Teams = data_dict[\"Teams\"].groupby([\"yearID\", \"teamID\"]).mean()\n",
    "team_summary_per_year = grouped_Teams.merge(\n",
    "    grouped_Ages, left_index=True, right_index=True, how=\"inner\")"
   ]
  },
  {
   "cell_type": "code",
   "execution_count": 4,
   "metadata": {
    "collapsed": false
   },
   "outputs": [],
   "source": [
    "### 1.2 Assemble dataframe of rankings for selected statistics ###\n",
    "\n",
    "# Begin exploring where the WS team falls in distribution for various\n",
    "# statistics vs. competitors in a given year ###\n",
    "\n",
    "## Ignore RuntimeWarning: invalid value when computing percentiles ##\n",
    "np.seterr(divide='ignore', invalid='ignore')\n",
    "\n",
    "def pctile_calc(x):\n",
    "    return [stats.percentileofscore(x, a, 'mean') for a in x]\n",
    "\n",
    "\n",
    "def zscore(x):\n",
    "    return stats.zscore(x)\n",
    "\n",
    "\n",
    "def stdizer(df, names, *args):\n",
    "    std_tables = {}\n",
    "    name_picker = 0\n",
    "    for f in args:\n",
    "        temp_dic = {}\n",
    "        for year in set(team_summary_per_year.index.get_level_values(\"yearID\")):\n",
    "            df_temp = df.loc[year].apply(f)\n",
    "            df_temp[\"yearID\"] = [year for teams in df_temp.index.values]\n",
    "            temp_dic[year] = df_temp.reset_index().groupby(\n",
    "                [\"yearID\", \"teamID\"]).max()\n",
    "        std_tables[names[name_picker]] = pd.concat(list(temp_dic.values()))\n",
    "        name_picker += 1\n",
    "    return std_tables\n",
    "\n",
    "\n",
    "std_tables_names = [\"percentiles\", \"zscores\"]\n",
    "std_data_library = stdizer(team_summary_per_year,\n",
    "                           std_tables_names, pctile_calc, zscore)\n",
    "zscores_wswinners = std_data_library[\"zscores\"].reset_index().groupby(\"yearID\").apply(\n",
    "    lambda x: x.sort_values(\"WSWin\", ascending=False).head(1)).set_index([\"yearID\", \"teamID\"])"
   ]
  },
  {
   "cell_type": "code",
   "execution_count": null,
   "metadata": {
    "collapsed": true
   },
   "outputs": [],
   "source": []
  },
  {
   "cell_type": "code",
   "execution_count": 5,
   "metadata": {
    "collapsed": false
   },
   "outputs": [
    {
     "data": {
      "image/png": "[encoded data removed]",
      "text/plain": [
       "<matplotlib.figure.Figure at 0x121dfad10>"
      ]
     },
     "metadata": {},
     "output_type": "display_data"
    }
   ],
   "source": [
    "### 1.3 Charting of pairwise comparisons ###\n",
    "\n",
    "stats_of_interest = [\"R\", \"H\", \"teamBA\",\n",
    "                     \"SLG\", \"OBP\", \"OPS\", \"SB\", \"RA\", \"ERA\", \"HA\", \"SO\", \"BBA\", \"age\"]\n",
    "\n",
    "# Experimenting by creating 1 pairwise scatter plot(quadrant delineation important!)\n",
    "fig = plt.figure()                                                   \n",
    "for i in range(1, 10):\n",
    "    x = zscores_wswinners[\"teamBA\"]\n",
    "    y = zscores_wswinners[\"ERA\"]\n",
    "\n",
    "    ax = fig.add_subplot(3,3,i)\n",
    "    ax.scatter(x, y)\n",
    "    plot_axes_range = [-3, 3, -3, 3]\n",
    "    ax.axis(plot_axes_range, 'equal')\n",
    "\n",
    "    ax.spines['left'].set_position('center')\n",
    "    ax.spines['right'].set_color('none')\n",
    "    ax.spines['bottom'].set_position('zero')\n",
    "    ax.spines['top'].set_color('none')\n",
    "    ax.xaxis.set_ticks_position('bottom')\n",
    "    ax.yaxis.set_ticks_position('left')\n",
    "\n",
    "    ax.axhline(linewidth=1, color='black')\n",
    "    ax.axvline(linewidth=1, color='black')\n",
    "\n",
    "plt.show()"
   ]
  }
 ],
 "metadata": {
  "kernelspec": {
   "display_name": "Python [conda env:DAND]",
   "language": "python",
   "name": "conda-env-DAND-py"
  },
  "language_info": {
   "codemirror_mode": {
    "name": "ipython",
    "version": 2
   },
   "file_extension": ".py",
   "mimetype": "text/x-python",
   "name": "python",
   "nbconvert_exporter": "python",
   "pygments_lexer": "ipython2",
   "version": "2.7.13"
  }
 },
 "nbformat": 4,
 "nbformat_minor": 2
}
